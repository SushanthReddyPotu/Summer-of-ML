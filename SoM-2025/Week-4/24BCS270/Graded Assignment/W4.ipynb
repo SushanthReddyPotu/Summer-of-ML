{
 "cells": [
  {
   "cell_type": "markdown",
   "id": "c06963e5-03af-4278-ae02-7842b756bce8",
   "metadata": {
    "panel-layout": {
     "height": 51.13750076293945,
     "visible": true,
     "width": 100
    }
   },
   "source": [
    "# SA-2025 WEEK 4 GRADED ASSIGNMENT\n"
   ]
  },
  {
   "cell_type": "markdown",
   "id": "d9ccf4d7-b4e1-47af-a2dd-b7abf4c1934a",
   "metadata": {},
   "source": [
    ">This notebook contains concepts learnt from week 4 using titanic dataset\n",
    "- Cross-Validation & Hyperparameter Tuning\n",
    "- Decision Trees, Random Forests\n",
    "- KNN, Confusion Matrix\n"
   ]
  },
  {
   "cell_type": "markdown",
   "id": "84ddbb5b-11b1-4c68-aff3-1fe8cb125711",
   "metadata": {},
   "source": [
    "titanic dataset link= C:\\Users\\VISHVAJEET\\Desktop\\SOM\\Summer-of-ML\\SoM-2025\\Week-4\\titanic.csv"
   ]
  },
  {
   "cell_type": "markdown",
   "id": "6dba5e0b-35af-4b43-ab95-e7272a6604b6",
   "metadata": {},
   "source": [
    "# Read the csv file"
   ]
  },
  {
   "cell_type": "code",
   "execution_count": 205,
   "id": "c8a84279-f412-4e11-bfd6-952c668e49c9",
   "metadata": {},
   "outputs": [],
   "source": [
    "import pandas as pd\n",
    "import numpy as np\n",
    "df=pd.read_csv(\"C:\\\\Users\\\\VISHVAJEET\\\\Desktop\\\\SOM\\\\Summer-of-ML\\\\SoM-2025\\\\Week-4\\\\titanic.csv\")"
   ]
  },
  {
   "cell_type": "markdown",
   "id": "5eeae0a0-9c6b-49ac-81c7-93a5c3e89dae",
   "metadata": {},
   "source": [
    "# Change categorical data to numerical\n"
   ]
  },
  {
   "cell_type": "code",
   "execution_count": 206,
   "id": "6cb15134-4865-41fd-bc62-a4f8ce0cf6dc",
   "metadata": {},
   "outputs": [],
   "source": [
    "import seaborn as sns"
   ]
  },
  {
   "cell_type": "code",
   "execution_count": 207,
   "id": "7eee210b-405b-40e8-9d6b-fd3e0a2590b8",
   "metadata": {},
   "outputs": [
    {
     "data": {
      "text/plain": [
       "PassengerId      0\n",
       "Survived         0\n",
       "Pclass           0\n",
       "Name             0\n",
       "Sex              0\n",
       "Age            177\n",
       "SibSp            0\n",
       "Parch            0\n",
       "Ticket           0\n",
       "Fare             0\n",
       "Cabin          687\n",
       "Embarked         2\n",
       "dtype: int64"
      ]
     },
     "execution_count": 207,
     "metadata": {},
     "output_type": "execute_result"
    }
   ],
   "source": [
    "df[\"Sex\"]=df[\"Sex\"].map({\"male\":0,\"female\":1})\n",
    "df['Embarked'] = df['Embarked'].map({'S': 0, 'C': 1, 'Q': 2})\n",
    "df.isnull().sum()\n"
   ]
  },
  {
   "cell_type": "code",
   "execution_count": 208,
   "id": "add945ae-e34a-4071-9e6e-1d02e5033564",
   "metadata": {},
   "outputs": [],
   "source": [
    "df=df[['Survived','Pclass','Name', 'Sex', 'Age',  'Cabin', 'Embarked','SibSp','Parch','Ticket','Fare']].dropna()"
   ]
  },
  {
   "cell_type": "code",
   "execution_count": 224,
   "id": "9db9a07e-5445-44ca-94ea-3dd34324d52f",
   "metadata": {},
   "outputs": [
    {
     "data": {
      "text/html": [
       "<div>\n",
       "<style scoped>\n",
       "    .dataframe tbody tr th:only-of-type {\n",
       "        vertical-align: middle;\n",
       "    }\n",
       "\n",
       "    .dataframe tbody tr th {\n",
       "        vertical-align: top;\n",
       "    }\n",
       "\n",
       "    .dataframe thead th {\n",
       "        text-align: right;\n",
       "    }\n",
       "</style>\n",
       "<table border=\"1\" class=\"dataframe\">\n",
       "  <thead>\n",
       "    <tr style=\"text-align: right;\">\n",
       "      <th></th>\n",
       "      <th>Survived</th>\n",
       "      <th>Pclass</th>\n",
       "      <th>Name</th>\n",
       "      <th>Sex</th>\n",
       "      <th>Age</th>\n",
       "      <th>Cabin</th>\n",
       "      <th>Embarked</th>\n",
       "      <th>SibSp</th>\n",
       "      <th>Parch</th>\n",
       "      <th>Ticket</th>\n",
       "      <th>Fare</th>\n",
       "    </tr>\n",
       "  </thead>\n",
       "  <tbody>\n",
       "    <tr>\n",
       "      <th>1</th>\n",
       "      <td>1</td>\n",
       "      <td>1</td>\n",
       "      <td>Cumings, Mrs. John Bradley (Florence Briggs Th...</td>\n",
       "      <td>1</td>\n",
       "      <td>38.0</td>\n",
       "      <td>C85</td>\n",
       "      <td>1.0</td>\n",
       "      <td>1</td>\n",
       "      <td>0</td>\n",
       "      <td>PC 17599</td>\n",
       "      <td>71.2833</td>\n",
       "    </tr>\n",
       "    <tr>\n",
       "      <th>3</th>\n",
       "      <td>1</td>\n",
       "      <td>1</td>\n",
       "      <td>Futrelle, Mrs. Jacques Heath (Lily May Peel)</td>\n",
       "      <td>1</td>\n",
       "      <td>35.0</td>\n",
       "      <td>C123</td>\n",
       "      <td>0.0</td>\n",
       "      <td>1</td>\n",
       "      <td>0</td>\n",
       "      <td>113803</td>\n",
       "      <td>53.1000</td>\n",
       "    </tr>\n",
       "    <tr>\n",
       "      <th>6</th>\n",
       "      <td>0</td>\n",
       "      <td>1</td>\n",
       "      <td>McCarthy, Mr. Timothy J</td>\n",
       "      <td>0</td>\n",
       "      <td>54.0</td>\n",
       "      <td>E46</td>\n",
       "      <td>0.0</td>\n",
       "      <td>0</td>\n",
       "      <td>0</td>\n",
       "      <td>17463</td>\n",
       "      <td>51.8625</td>\n",
       "    </tr>\n",
       "    <tr>\n",
       "      <th>10</th>\n",
       "      <td>1</td>\n",
       "      <td>3</td>\n",
       "      <td>Sandstrom, Miss. Marguerite Rut</td>\n",
       "      <td>1</td>\n",
       "      <td>4.0</td>\n",
       "      <td>G6</td>\n",
       "      <td>0.0</td>\n",
       "      <td>1</td>\n",
       "      <td>1</td>\n",
       "      <td>PP 9549</td>\n",
       "      <td>16.7000</td>\n",
       "    </tr>\n",
       "    <tr>\n",
       "      <th>11</th>\n",
       "      <td>1</td>\n",
       "      <td>1</td>\n",
       "      <td>Bonnell, Miss. Elizabeth</td>\n",
       "      <td>1</td>\n",
       "      <td>58.0</td>\n",
       "      <td>C103</td>\n",
       "      <td>0.0</td>\n",
       "      <td>0</td>\n",
       "      <td>0</td>\n",
       "      <td>113783</td>\n",
       "      <td>26.5500</td>\n",
       "    </tr>\n",
       "    <tr>\n",
       "      <th>...</th>\n",
       "      <td>...</td>\n",
       "      <td>...</td>\n",
       "      <td>...</td>\n",
       "      <td>...</td>\n",
       "      <td>...</td>\n",
       "      <td>...</td>\n",
       "      <td>...</td>\n",
       "      <td>...</td>\n",
       "      <td>...</td>\n",
       "      <td>...</td>\n",
       "      <td>...</td>\n",
       "    </tr>\n",
       "    <tr>\n",
       "      <th>871</th>\n",
       "      <td>1</td>\n",
       "      <td>1</td>\n",
       "      <td>Beckwith, Mrs. Richard Leonard (Sallie Monypeny)</td>\n",
       "      <td>1</td>\n",
       "      <td>47.0</td>\n",
       "      <td>D35</td>\n",
       "      <td>0.0</td>\n",
       "      <td>1</td>\n",
       "      <td>1</td>\n",
       "      <td>11751</td>\n",
       "      <td>52.5542</td>\n",
       "    </tr>\n",
       "    <tr>\n",
       "      <th>872</th>\n",
       "      <td>0</td>\n",
       "      <td>1</td>\n",
       "      <td>Carlsson, Mr. Frans Olof</td>\n",
       "      <td>0</td>\n",
       "      <td>33.0</td>\n",
       "      <td>B51 B53 B55</td>\n",
       "      <td>0.0</td>\n",
       "      <td>0</td>\n",
       "      <td>0</td>\n",
       "      <td>695</td>\n",
       "      <td>5.0000</td>\n",
       "    </tr>\n",
       "    <tr>\n",
       "      <th>879</th>\n",
       "      <td>1</td>\n",
       "      <td>1</td>\n",
       "      <td>Potter, Mrs. Thomas Jr (Lily Alexenia Wilson)</td>\n",
       "      <td>1</td>\n",
       "      <td>56.0</td>\n",
       "      <td>C50</td>\n",
       "      <td>1.0</td>\n",
       "      <td>0</td>\n",
       "      <td>1</td>\n",
       "      <td>11767</td>\n",
       "      <td>83.1583</td>\n",
       "    </tr>\n",
       "    <tr>\n",
       "      <th>887</th>\n",
       "      <td>1</td>\n",
       "      <td>1</td>\n",
       "      <td>Graham, Miss. Margaret Edith</td>\n",
       "      <td>1</td>\n",
       "      <td>19.0</td>\n",
       "      <td>B42</td>\n",
       "      <td>0.0</td>\n",
       "      <td>0</td>\n",
       "      <td>0</td>\n",
       "      <td>112053</td>\n",
       "      <td>30.0000</td>\n",
       "    </tr>\n",
       "    <tr>\n",
       "      <th>889</th>\n",
       "      <td>1</td>\n",
       "      <td>1</td>\n",
       "      <td>Behr, Mr. Karl Howell</td>\n",
       "      <td>0</td>\n",
       "      <td>26.0</td>\n",
       "      <td>C148</td>\n",
       "      <td>1.0</td>\n",
       "      <td>0</td>\n",
       "      <td>0</td>\n",
       "      <td>111369</td>\n",
       "      <td>30.0000</td>\n",
       "    </tr>\n",
       "  </tbody>\n",
       "</table>\n",
       "<p>183 rows × 11 columns</p>\n",
       "</div>"
      ],
      "text/plain": [
       "     Survived  Pclass                                               Name  Sex  \\\n",
       "1           1       1  Cumings, Mrs. John Bradley (Florence Briggs Th...    1   \n",
       "3           1       1       Futrelle, Mrs. Jacques Heath (Lily May Peel)    1   \n",
       "6           0       1                            McCarthy, Mr. Timothy J    0   \n",
       "10          1       3                    Sandstrom, Miss. Marguerite Rut    1   \n",
       "11          1       1                           Bonnell, Miss. Elizabeth    1   \n",
       "..        ...     ...                                                ...  ...   \n",
       "871         1       1   Beckwith, Mrs. Richard Leonard (Sallie Monypeny)    1   \n",
       "872         0       1                           Carlsson, Mr. Frans Olof    0   \n",
       "879         1       1      Potter, Mrs. Thomas Jr (Lily Alexenia Wilson)    1   \n",
       "887         1       1                       Graham, Miss. Margaret Edith    1   \n",
       "889         1       1                              Behr, Mr. Karl Howell    0   \n",
       "\n",
       "      Age        Cabin  Embarked  SibSp  Parch    Ticket     Fare  \n",
       "1    38.0          C85       1.0      1      0  PC 17599  71.2833  \n",
       "3    35.0         C123       0.0      1      0    113803  53.1000  \n",
       "6    54.0          E46       0.0      0      0     17463  51.8625  \n",
       "10    4.0           G6       0.0      1      1   PP 9549  16.7000  \n",
       "11   58.0         C103       0.0      0      0    113783  26.5500  \n",
       "..    ...          ...       ...    ...    ...       ...      ...  \n",
       "871  47.0          D35       0.0      1      1     11751  52.5542  \n",
       "872  33.0  B51 B53 B55       0.0      0      0       695   5.0000  \n",
       "879  56.0          C50       1.0      0      1     11767  83.1583  \n",
       "887  19.0          B42       0.0      0      0    112053  30.0000  \n",
       "889  26.0         C148       1.0      0      0    111369  30.0000  \n",
       "\n",
       "[183 rows x 11 columns]"
      ]
     },
     "execution_count": 224,
     "metadata": {},
     "output_type": "execute_result"
    }
   ],
   "source": [
    "df"
   ]
  },
  {
   "cell_type": "markdown",
   "id": "2c0bb594-1660-454d-93a2-a228576d31bd",
   "metadata": {},
   "source": [
    "# Cross Validation and Hyperparameter Tuning"
   ]
  },
  {
   "cell_type": "code",
   "execution_count": 226,
   "id": "b0502c4a-7bd8-4e72-9b95-97b8c39cac5e",
   "metadata": {},
   "outputs": [],
   "source": [
    "from sklearn.linear_model import LogisticRegression\n",
    "from sklearn.svm import SVC\n",
    "from sklearn.ensemble import RandomForestClassifier\n",
    "from sklearn.model_selection import GridSearchCV\n",
    "from sklearn.model_selection import RandomizedSearchCV,cross_val_score\n",
    "from sklearn.tree import DecisionTreeClassifier\n",
    "from sklearn.metrics import accuracy_score\n",
    "from sklearn.ensemble import  GradientBoostingClassifier, AdaBoostClassifier\n",
    "from sklearn.neighbors import KNeighborsClassifier\n",
    "from sklearn.preprocessing import StandardScaler\n",
    "\n"
   ]
  },
  {
   "cell_type": "code",
   "execution_count": 227,
   "id": "af7964cc-cadf-4fe9-b1b5-c62d1c10f169",
   "metadata": {},
   "outputs": [],
   "source": [
    "df_continuous=df.select_dtypes(include=[\"int64\",\"float64\"])\n"
   ]
  },
  {
   "cell_type": "code",
   "execution_count": 228,
   "id": "df4b6c6e-4383-46d2-ba1e-a3af5dd7fa8b",
   "metadata": {},
   "outputs": [],
   "source": [
    "from sklearn.model_selection import train_test_split\n",
    "X=df_continuous.drop('Survived',axis=1)\n"
   ]
  },
  {
   "cell_type": "code",
   "execution_count": 229,
   "id": "342570ed-f5d1-412a-99cd-fa2bec9c88ce",
   "metadata": {},
   "outputs": [],
   "source": [
    "Y=df_continuous[\"Survived\"]\n",
    "X_train, X_test, y_train, y_test = train_test_split(X,Y,test_size=0.3,random_state=2021)"
   ]
  },
  {
   "cell_type": "markdown",
   "id": "c749ee3e-7db3-4267-bcca-d52de7f15f06",
   "metadata": {},
   "source": [
    "LogisticRegression"
   ]
  },
  {
   "cell_type": "code",
   "execution_count": 230,
   "id": "933ba045-d968-42f7-976d-074e8448efd6",
   "metadata": {},
   "outputs": [
    {
     "name": "stderr",
     "output_type": "stream",
     "text": [
      "C:\\Users\\VISHVAJEET\\anaconda3\\Lib\\site-packages\\sklearn\\linear_model\\_logistic.py:470: ConvergenceWarning: lbfgs failed to converge after 100 iteration(s) (status=1):\n",
      "STOP: TOTAL NO. of ITERATIONS REACHED LIMIT\n",
      "\n",
      "Increase the number of iterations to improve the convergence (max_iter=100).\n",
      "You might also want to scale the data as shown in:\n",
      "    https://scikit-learn.org/stable/modules/preprocessing.html\n",
      "Please also refer to the documentation for alternative solver options:\n",
      "    https://scikit-learn.org/stable/modules/linear_model.html#logistic-regression\n",
      "  n_iter_i = _check_optimize_result(\n"
     ]
    },
    {
     "data": {
      "text/plain": [
       "0.7818181818181819"
      ]
     },
     "execution_count": 230,
     "metadata": {},
     "output_type": "execute_result"
    }
   ],
   "source": [
    "\n",
    "model=LogisticRegression()\n",
    "model.fit(X_train,y_train)\n",
    "model.score(X_test,y_test)"
   ]
  },
  {
   "cell_type": "markdown",
   "id": "5b0b1738-bd3d-445a-a8f2-ba05f9db268f",
   "metadata": {},
   "source": [
    "SVM"
   ]
  },
  {
   "cell_type": "code",
   "execution_count": 231,
   "id": "3205a301-3dc2-4fd8-ac4c-484ab20fad0b",
   "metadata": {},
   "outputs": [
    {
     "data": {
      "text/plain": [
       "0.6727272727272727"
      ]
     },
     "execution_count": 231,
     "metadata": {},
     "output_type": "execute_result"
    }
   ],
   "source": [
    "svm=SVC()\n",
    "svm.fit(X_train, y_train)\n",
    "svm.score(X_test, y_test)"
   ]
  },
  {
   "cell_type": "markdown",
   "id": "47a04289-e34b-47a7-abf1-3c425ece356e",
   "metadata": {},
   "source": [
    "RandomForest"
   ]
  },
  {
   "cell_type": "code",
   "execution_count": 232,
   "id": "b74f7f21-3261-41c3-9650-5ea40f25c52d",
   "metadata": {},
   "outputs": [
    {
     "data": {
      "text/plain": [
       "0.7454545454545455"
      ]
     },
     "execution_count": 232,
     "metadata": {},
     "output_type": "execute_result"
    }
   ],
   "source": [
    "\n",
    "rf = RandomForestClassifier(n_estimators=40)\n",
    "rf.fit(X_train, y_train)\n",
    "rf.score(X_test, y_test)"
   ]
  },
  {
   "cell_type": "code",
   "execution_count": 233,
   "id": "ddd2fc30-0dc1-4d69-83ac-008399b50f4e",
   "metadata": {},
   "outputs": [
    {
     "name": "stdout",
     "output_type": "stream",
     "text": [
      "CV Accuracy Scores: [0.78378378 0.81081081 0.72972973 0.66666667 0.75      ]\n",
      "Average Accuracy: 0.7481981981981982\n"
     ]
    },
    {
     "name": "stderr",
     "output_type": "stream",
     "text": [
      "C:\\Users\\VISHVAJEET\\anaconda3\\Lib\\site-packages\\sklearn\\linear_model\\_logistic.py:470: ConvergenceWarning: lbfgs failed to converge after 100 iteration(s) (status=1):\n",
      "STOP: TOTAL NO. of ITERATIONS REACHED LIMIT\n",
      "\n",
      "Increase the number of iterations to improve the convergence (max_iter=100).\n",
      "You might also want to scale the data as shown in:\n",
      "    https://scikit-learn.org/stable/modules/preprocessing.html\n",
      "Please also refer to the documentation for alternative solver options:\n",
      "    https://scikit-learn.org/stable/modules/linear_model.html#logistic-regression\n",
      "  n_iter_i = _check_optimize_result(\n",
      "C:\\Users\\VISHVAJEET\\anaconda3\\Lib\\site-packages\\sklearn\\linear_model\\_logistic.py:470: ConvergenceWarning: lbfgs failed to converge after 100 iteration(s) (status=1):\n",
      "STOP: TOTAL NO. of ITERATIONS REACHED LIMIT\n",
      "\n",
      "Increase the number of iterations to improve the convergence (max_iter=100).\n",
      "You might also want to scale the data as shown in:\n",
      "    https://scikit-learn.org/stable/modules/preprocessing.html\n",
      "Please also refer to the documentation for alternative solver options:\n",
      "    https://scikit-learn.org/stable/modules/linear_model.html#logistic-regression\n",
      "  n_iter_i = _check_optimize_result(\n",
      "C:\\Users\\VISHVAJEET\\anaconda3\\Lib\\site-packages\\sklearn\\linear_model\\_logistic.py:470: ConvergenceWarning: lbfgs failed to converge after 100 iteration(s) (status=1):\n",
      "STOP: TOTAL NO. of ITERATIONS REACHED LIMIT\n",
      "\n",
      "Increase the number of iterations to improve the convergence (max_iter=100).\n",
      "You might also want to scale the data as shown in:\n",
      "    https://scikit-learn.org/stable/modules/preprocessing.html\n",
      "Please also refer to the documentation for alternative solver options:\n",
      "    https://scikit-learn.org/stable/modules/linear_model.html#logistic-regression\n",
      "  n_iter_i = _check_optimize_result(\n",
      "C:\\Users\\VISHVAJEET\\anaconda3\\Lib\\site-packages\\sklearn\\linear_model\\_logistic.py:470: ConvergenceWarning: lbfgs failed to converge after 100 iteration(s) (status=1):\n",
      "STOP: TOTAL NO. of ITERATIONS REACHED LIMIT\n",
      "\n",
      "Increase the number of iterations to improve the convergence (max_iter=100).\n",
      "You might also want to scale the data as shown in:\n",
      "    https://scikit-learn.org/stable/modules/preprocessing.html\n",
      "Please also refer to the documentation for alternative solver options:\n",
      "    https://scikit-learn.org/stable/modules/linear_model.html#logistic-regression\n",
      "  n_iter_i = _check_optimize_result(\n"
     ]
    }
   ],
   "source": [
    "cv_scores = cross_val_score(model, X, Y, cv=5)\n",
    "print(\"CV Accuracy Scores:\", cv_scores)\n",
    "print(\"Average Accuracy:\", np.mean(cv_scores))"
   ]
  },
  {
   "cell_type": "markdown",
   "id": "4440c4bd-ffc7-4af1-b4ba-f284df9175f1",
   "metadata": {},
   "source": [
    " # GridSearchCV\n",
    "> for finding best decision tree parameter"
   ]
  },
  {
   "cell_type": "code",
   "execution_count": 234,
   "id": "3d76bb5a-516b-4a26-b6f5-1d3d0b837f9d",
   "metadata": {},
   "outputs": [
    {
     "name": "stdout",
     "output_type": "stream",
     "text": [
      "Best Parameters: {'max_depth': 3, 'min_samples_split': 2}\n",
      "Best Score: 0.7650273224043715\n"
     ]
    }
   ],
   "source": [
    "# Hyperparameter tuning with GridSearchCV\n",
    "param_grid = {'max_depth': [3, 5, 10], 'min_samples_split': [2, 5, 10]}\n",
    "grid = GridSearchCV(DecisionTreeClassifier(), param_grid, cv=3)\n",
    "grid.fit(X, Y)\n",
    "print(\"Best Parameters:\", grid.best_params_)\n",
    "print(\"Best Score:\", grid.best_score_)"
   ]
  },
  {
   "cell_type": "markdown",
   "id": "81428ee9-8bc4-4572-a6bd-20e11c61a711",
   "metadata": {},
   "source": [
    "# Random Search\n",
    ">Use RandomizedSearchCV for Random Forest"
   ]
  },
  {
   "cell_type": "code",
   "execution_count": 235,
   "id": "ce18e936-57ef-49ec-8fbc-784caa623848",
   "metadata": {},
   "outputs": [
    {
     "name": "stdout",
     "output_type": "stream",
     "text": [
      "Best Parameters: {'n_estimators': 50, 'min_samples_split': 5, 'max_depth': None}\n",
      "CV Score: 0.7424615384615385\n"
     ]
    }
   ],
   "source": [
    "param_random = { 'n_estimators': [50, 100, 200], 'max_depth': [3, 5, 7, None], 'min_samples_split': [2, 5, 10]}\n",
    "\n",
    "random = RandomizedSearchCV(RandomForestClassifier(), param_random, n_iter=5, cv=5, random_state=42)\n",
    "random.fit(X_train, y_train)\n",
    "\n",
    "print(\"Best Parameters:\", random.best_params_)\n",
    "print(\"CV Score:\", random.best_score_)"
   ]
  },
  {
   "cell_type": "markdown",
   "id": "a884e6b0-fbe2-4079-9d4b-446f068b2d6d",
   "metadata": {},
   "source": [
    "# DecisionTree and RandomForest"
   ]
  },
  {
   "cell_type": "code",
   "execution_count": 236,
   "id": "b8c341f3-d355-41ad-a923-319fbe2ec02f",
   "metadata": {},
   "outputs": [
    {
     "name": "stdout",
     "output_type": "stream",
     "text": [
      "Decision Tree Accuracy: 81.81818181818183 %\n",
      "Random Forest Accuracy: 74.54545454545455 %\n"
     ]
    }
   ],
   "source": [
    "\n",
    "dt = DecisionTreeClassifier(**grid.best_params_)\n",
    "dt.fit(X_train, y_train)\n",
    "rf = RandomForestClassifier(**random.best_params_)\n",
    "rf.fit(X_train, y_train)\n",
    "\n",
    "dt_pred = dt.predict(X_test)\n",
    "rf_pred = rf.predict(X_test)\n",
    "\n",
    "print(\"Decision Tree Accuracy:\", accuracy_score(y_test, dt_pred)*100,'%')\n",
    "print(\"Random Forest Accuracy:\", accuracy_score(y_test, rf_pred)*100,'%')"
   ]
  },
  {
   "cell_type": "markdown",
   "id": "bdf25da8-fa7c-4adc-85ce-607cfc2400a0",
   "metadata": {},
   "source": [
    "#  Gradient Boosting , AdaBoost,XGBoost, Catboost"
   ]
  },
  {
   "cell_type": "markdown",
   "id": "1b2e8b11-d35c-4307-94bb-fc42375e40a8",
   "metadata": {},
   "source": [
    ">Gradient Boosting"
   ]
  },
  {
   "cell_type": "code",
   "execution_count": 237,
   "id": "bf3ab6cc-7233-45e1-822c-b7e45c3fc5ab",
   "metadata": {},
   "outputs": [
    {
     "name": "stdout",
     "output_type": "stream",
     "text": [
      "Gradient Boosting Accuracy: 78.18181818181819 %\n"
     ]
    }
   ],
   "source": [
    "\n",
    "gb = GradientBoostingClassifier()\n",
    "gb.fit(X_train, y_train)\n",
    "gb_pred = gb.predict(X_test)\n",
    "print(\"Gradient Boosting Accuracy:\", accuracy_score(y_test, gb_pred)*100,'%')"
   ]
  },
  {
   "cell_type": "markdown",
   "id": "3e277f22-6a0a-4717-85b1-b8923038878b",
   "metadata": {},
   "source": [
    ">Adaboost"
   ]
  },
  {
   "cell_type": "code",
   "execution_count": 238,
   "id": "f97a98c8-5242-44bc-9dd8-a3668d45bbb9",
   "metadata": {},
   "outputs": [
    {
     "name": "stdout",
     "output_type": "stream",
     "text": [
      "AdaBoost Accuracy: 74.54545454545455 %\n"
     ]
    }
   ],
   "source": [
    "ad = AdaBoostClassifier()\n",
    "ad.fit(X_train, y_train)\n",
    "ad_pred = ad.predict(X_test)\n",
    "print(\"AdaBoost Accuracy:\", accuracy_score(y_test,ad_pred)*100,'%')"
   ]
  },
  {
   "cell_type": "markdown",
   "id": "d310152c-0374-4035-842a-938a671befde",
   "metadata": {},
   "source": [
    ">XGBoost"
   ]
  },
  {
   "cell_type": "code",
   "execution_count": 239,
   "id": "a6409dd4-2811-4bcd-98fa-641017294a40",
   "metadata": {},
   "outputs": [
    {
     "ename": "ModuleNotFoundError",
     "evalue": "No module named 'xgboost'",
     "output_type": "error",
     "traceback": [
      "\u001b[1;31m---------------------------------------------------------------------------\u001b[0m",
      "\u001b[1;31mModuleNotFoundError\u001b[0m                       Traceback (most recent call last)",
      "Cell \u001b[1;32mIn[239], line 1\u001b[0m\n\u001b[1;32m----> 1\u001b[0m \u001b[38;5;28;01mfrom\u001b[39;00m \u001b[38;5;21;01mxgboost\u001b[39;00m \u001b[38;5;28;01mimport\u001b[39;00m XGBClassifier\n\u001b[0;32m      2\u001b[0m \u001b[38;5;28;01mfrom\u001b[39;00m \u001b[38;5;21;01mcatboost\u001b[39;00m \u001b[38;5;28;01mimport\u001b[39;00m CatBoostClassifier\n\u001b[0;32m      3\u001b[0m xgb \u001b[38;5;241m=\u001b[39m XGBClassifier()\n",
      "\u001b[1;31mModuleNotFoundError\u001b[0m: No module named 'xgboost'"
     ]
    }
   ],
   "source": [
    "from xgboost import XGBClassifier\n",
    "from catboost import CatBoostClassifier\n",
    "xgb = XGBClassifier()\n",
    "xgb.fit(X_train, y_train)\n",
    "xgb_pred = xgb.predict(X_test)\n",
    "print(\"XGBoost Accuracy:\", accuracy_score(y_test, xgb_pred))\n",
    "\n"
   ]
  },
  {
   "cell_type": "markdown",
   "id": "bccf2216-c321-4b78-8244-2596eec5f1de",
   "metadata": {},
   "source": [
    " >Catboost"
   ]
  },
  {
   "cell_type": "code",
   "execution_count": 241,
   "id": "80106065-6639-4f0a-ada5-50157f5feec2",
   "metadata": {},
   "outputs": [
    {
     "ename": "NameError",
     "evalue": "name 'CatBoostClassifier' is not defined",
     "output_type": "error",
     "traceback": [
      "\u001b[1;31m---------------------------------------------------------------------------\u001b[0m",
      "\u001b[1;31mNameError\u001b[0m                                 Traceback (most recent call last)",
      "Cell \u001b[1;32mIn[241], line 1\u001b[0m\n\u001b[1;32m----> 1\u001b[0m cat \u001b[38;5;241m=\u001b[39m CatBoostClassifier()\n\u001b[0;32m      2\u001b[0m cat\u001b[38;5;241m.\u001b[39mfit(X_train, y_train)\n\u001b[0;32m      3\u001b[0m cat_pred \u001b[38;5;241m=\u001b[39m cat\u001b[38;5;241m.\u001b[39mpredict(X_test)\n",
      "\u001b[1;31mNameError\u001b[0m: name 'CatBoostClassifier' is not defined"
     ]
    }
   ],
   "source": [
    "cat = CatBoostClassifier()\n",
    "cat.fit(X_train, y_train)\n",
    "cat_pred = cat.predict(X_test)\n",
    "print(\"CatBoost Accuracy:\", accuracy_score(y_test, cat_pred))"
   ]
  },
  {
   "cell_type": "markdown",
   "id": "bb0d908b-6ac1-4ae8-9b72-0ecd07038b04",
   "metadata": {},
   "source": [
    "# KNN"
   ]
  },
  {
   "cell_type": "code",
   "execution_count": 240,
   "id": "4ab7cc81-c824-41c1-b8f1-b6e45e921e2f",
   "metadata": {},
   "outputs": [
    {
     "name": "stdout",
     "output_type": "stream",
     "text": [
      "KNN Accuracy: 0.7636363636363637\n"
     ]
    }
   ],
   "source": [
    "scaler = StandardScaler()\n",
    "X_train_scaled = scaler.fit_transform(X_train)\n",
    "X_test_scaled = scaler.transform(X_test)\n",
    "\n",
    "knn = KNeighborsClassifier(n_neighbors=3)\n",
    "knn.fit(X_train_scaled, y_train)\n",
    "knn_pred = knn.predict(X_test_scaled)\n",
    "\n",
    "print(\"KNN Accuracy:\", accuracy_score(y_test, knn_pred))\n",
    "     "
   ]
  }
 ],
 "metadata": {
  "kernelspec": {
   "display_name": "Python 3 (ipykernel)",
   "language": "python",
   "name": "python3"
  },
  "language_info": {
   "codemirror_mode": {
    "name": "ipython",
    "version": 3
   },
   "file_extension": ".py",
   "mimetype": "text/x-python",
   "name": "python",
   "nbconvert_exporter": "python",
   "pygments_lexer": "ipython3",
   "version": "3.12.7"
  },
  "panel-cell-order": [
   "c06963e5-03af-4278-ae02-7842b756bce8"
  ]
 },
 "nbformat": 4,
 "nbformat_minor": 5
}
