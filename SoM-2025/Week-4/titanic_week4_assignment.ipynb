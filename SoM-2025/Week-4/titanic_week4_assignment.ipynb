{
 "cells": [
  {
   "cell_type": "markdown",
   "id": "ce9db0d1",
   "metadata": {},
   "source": [
    "\n",
    "# Survival Prediction in Titanic Dataset\n",
    "## Week 4 Assignment: Cross-Validation, Hyperparameter Tuning & Ensemble Methods\n",
    "\n",
    "Topics covered in this notebook :-\n",
    "\n",
    "- Cross-validation and hyperparameter tuning\n",
    "- Decision Trees and Random Forests\n",
    "- Boosting algorithms (Gradient Boosting, AdaBoost, XGBoost, CatBoost, LightGBM)\n",
    "- K-Nearest Neighbors (KNN)\n",
    "\n",
    "We'll predict passenger survival based on available features.\n"
   ]
  },
  {
   "cell_type": "code",
   "execution_count": 1,
   "id": "b050b751",
   "metadata": {},
   "outputs": [
    {
     "data": {
      "text/html": [
       "<div>\n",
       "<style scoped>\n",
       "    .dataframe tbody tr th:only-of-type {\n",
       "        vertical-align: middle;\n",
       "    }\n",
       "\n",
       "    .dataframe tbody tr th {\n",
       "        vertical-align: top;\n",
       "    }\n",
       "\n",
       "    .dataframe thead th {\n",
       "        text-align: right;\n",
       "    }\n",
       "</style>\n",
       "<table border=\"1\" class=\"dataframe\">\n",
       "  <thead>\n",
       "    <tr style=\"text-align: right;\">\n",
       "      <th></th>\n",
       "      <th>PassengerId</th>\n",
       "      <th>Survived</th>\n",
       "      <th>Pclass</th>\n",
       "      <th>Name</th>\n",
       "      <th>Sex</th>\n",
       "      <th>Age</th>\n",
       "      <th>SibSp</th>\n",
       "      <th>Parch</th>\n",
       "      <th>Ticket</th>\n",
       "      <th>Fare</th>\n",
       "      <th>Cabin</th>\n",
       "      <th>Embarked</th>\n",
       "    </tr>\n",
       "  </thead>\n",
       "  <tbody>\n",
       "    <tr>\n",
       "      <th>0</th>\n",
       "      <td>1</td>\n",
       "      <td>0</td>\n",
       "      <td>3</td>\n",
       "      <td>Braund, Mr. Owen Harris</td>\n",
       "      <td>male</td>\n",
       "      <td>22.0</td>\n",
       "      <td>1</td>\n",
       "      <td>0</td>\n",
       "      <td>A/5 21171</td>\n",
       "      <td>7.2500</td>\n",
       "      <td>NaN</td>\n",
       "      <td>S</td>\n",
       "    </tr>\n",
       "    <tr>\n",
       "      <th>1</th>\n",
       "      <td>2</td>\n",
       "      <td>1</td>\n",
       "      <td>1</td>\n",
       "      <td>Cumings, Mrs. John Bradley (Florence Briggs Th...</td>\n",
       "      <td>female</td>\n",
       "      <td>38.0</td>\n",
       "      <td>1</td>\n",
       "      <td>0</td>\n",
       "      <td>PC 17599</td>\n",
       "      <td>71.2833</td>\n",
       "      <td>C85</td>\n",
       "      <td>C</td>\n",
       "    </tr>\n",
       "    <tr>\n",
       "      <th>2</th>\n",
       "      <td>3</td>\n",
       "      <td>1</td>\n",
       "      <td>3</td>\n",
       "      <td>Heikkinen, Miss. Laina</td>\n",
       "      <td>female</td>\n",
       "      <td>26.0</td>\n",
       "      <td>0</td>\n",
       "      <td>0</td>\n",
       "      <td>STON/O2. 3101282</td>\n",
       "      <td>7.9250</td>\n",
       "      <td>NaN</td>\n",
       "      <td>S</td>\n",
       "    </tr>\n",
       "    <tr>\n",
       "      <th>3</th>\n",
       "      <td>4</td>\n",
       "      <td>1</td>\n",
       "      <td>1</td>\n",
       "      <td>Futrelle, Mrs. Jacques Heath (Lily May Peel)</td>\n",
       "      <td>female</td>\n",
       "      <td>35.0</td>\n",
       "      <td>1</td>\n",
       "      <td>0</td>\n",
       "      <td>113803</td>\n",
       "      <td>53.1000</td>\n",
       "      <td>C123</td>\n",
       "      <td>S</td>\n",
       "    </tr>\n",
       "    <tr>\n",
       "      <th>4</th>\n",
       "      <td>5</td>\n",
       "      <td>0</td>\n",
       "      <td>3</td>\n",
       "      <td>Allen, Mr. William Henry</td>\n",
       "      <td>male</td>\n",
       "      <td>35.0</td>\n",
       "      <td>0</td>\n",
       "      <td>0</td>\n",
       "      <td>373450</td>\n",
       "      <td>8.0500</td>\n",
       "      <td>NaN</td>\n",
       "      <td>S</td>\n",
       "    </tr>\n",
       "  </tbody>\n",
       "</table>\n",
       "</div>"
      ],
      "text/plain": [
       "   PassengerId  Survived  Pclass  \\\n",
       "0            1         0       3   \n",
       "1            2         1       1   \n",
       "2            3         1       3   \n",
       "3            4         1       1   \n",
       "4            5         0       3   \n",
       "\n",
       "                                                Name     Sex   Age  SibSp  \\\n",
       "0                            Braund, Mr. Owen Harris    male  22.0      1   \n",
       "1  Cumings, Mrs. John Bradley (Florence Briggs Th...  female  38.0      1   \n",
       "2                             Heikkinen, Miss. Laina  female  26.0      0   \n",
       "3       Futrelle, Mrs. Jacques Heath (Lily May Peel)  female  35.0      1   \n",
       "4                           Allen, Mr. William Henry    male  35.0      0   \n",
       "\n",
       "   Parch            Ticket     Fare Cabin Embarked  \n",
       "0      0         A/5 21171   7.2500   NaN        S  \n",
       "1      0          PC 17599  71.2833   C85        C  \n",
       "2      0  STON/O2. 3101282   7.9250   NaN        S  \n",
       "3      0            113803  53.1000  C123        S  \n",
       "4      0            373450   8.0500   NaN        S  "
      ]
     },
     "execution_count": 1,
     "metadata": {},
     "output_type": "execute_result"
    }
   ],
   "source": [
    "import pandas as pd\n",
    "\n",
    "from sklearn.model_selection import train_test_split, GridSearchCV, RandomizedSearchCV\n",
    "from sklearn.preprocessing import StandardScaler\n",
    "from sklearn.tree import DecisionTreeClassifier\n",
    "from sklearn.ensemble import RandomForestClassifier, GradientBoostingClassifier, AdaBoostClassifier\n",
    "from sklearn.neighbors import KNeighborsClassifier\n",
    "from sklearn.metrics import accuracy_score\n",
    "\n",
    "from xgboost import XGBClassifier\n",
    "from catboost import CatBoostClassifier\n",
    "from lightgbm import LGBMClassifier\n",
    "\n",
    "df = pd.read_excel('titanic.csv.xlsx')\n",
    "df.head()"
   ]
  },
  {
   "cell_type": "markdown",
   "id": "a4ea942d",
   "metadata": {},
   "source": [
    "### Data Preprocessing\n",
    "We will handle missing values, encode categorical features, and scale numerical features."
   ]
  },
  {
   "cell_type": "code",
   "execution_count": 2,
   "id": "4ee1ef55",
   "metadata": {},
   "outputs": [],
   "source": [
    "df.Age=df['Age'].fillna(df['Age'].mean())\n",
    "df.Embarked=df['Embarked'].fillna(df['Embarked'].mode()[0])\n",
    "\n",
    "df = pd.get_dummies(df, columns=['Sex', 'Embarked'], drop_first=True)\n",
    "\n",
    "df.drop(['Name', 'Ticket', 'Cabin', 'PassengerId'], axis=1, inplace=True)\n",
    "\n",
    "X = df.drop('Survived', axis=1)\n",
    "y = df['Survived']"
   ]
  },
  {
   "cell_type": "markdown",
   "id": "9777da4f",
   "metadata": {},
   "source": [
    "### Spliting Data into Train and Test"
   ]
  },
  {
   "cell_type": "code",
   "execution_count": 3,
   "id": "97b9ec43",
   "metadata": {},
   "outputs": [],
   "source": [
    "X_train, X_test, y_train, y_test = train_test_split(X, y, test_size=0.2, random_state=42)"
   ]
  },
  {
   "cell_type": "markdown",
   "id": "676e8983",
   "metadata": {},
   "source": [
    "\n",
    "### Cross-Validation & Hyperparameter Tuning\n",
    "Use **GridSearchCV** to find the best Decision Tree parameters.\n"
   ]
  },
  {
   "cell_type": "code",
   "execution_count": 4,
   "id": "0a1c9ef3",
   "metadata": {},
   "outputs": [
    {
     "name": "stdout",
     "output_type": "stream",
     "text": [
      "Best Parameters: {'criterion': 'entropy', 'max_depth': 3, 'min_samples_split': 2}\n",
      "CV Score: 0.8230079779375554\n"
     ]
    }
   ],
   "source": [
    "param_grid = {\n",
    "    'max_depth': [3, 5, 7, 9],\n",
    "    'min_samples_split': [2, 5, 10],\n",
    "    'criterion': ['gini', 'entropy']\n",
    "}\n",
    "\n",
    "grid = GridSearchCV(DecisionTreeClassifier(), param_grid, cv=5)\n",
    "grid.fit(X_train, y_train)\n",
    "\n",
    "print(\"Best Parameters:\", grid.best_params_)\n",
    "print(\"CV Score:\", grid.best_score_)"
   ]
  },
  {
   "cell_type": "markdown",
   "id": "22bd7348",
   "metadata": {},
   "source": [
    "\n",
    "### Random Search\n",
    "Use **RandomizedSearchCV** for Random Forest.\n"
   ]
  },
  {
   "cell_type": "code",
   "execution_count": 5,
   "id": "caef14f0",
   "metadata": {},
   "outputs": [
    {
     "name": "stdout",
     "output_type": "stream",
     "text": [
      "Best Parameters: {'n_estimators': 100, 'min_samples_split': 10, 'max_depth': 5}\n",
      "CV Score: 0.8300502314586822\n"
     ]
    }
   ],
   "source": [
    "param_dist = {\n",
    "    'n_estimators': [50, 100, 200],\n",
    "    'max_depth': [3, 5, 7, None],\n",
    "    'min_samples_split': [2, 5, 10]\n",
    "}\n",
    "\n",
    "random_search = RandomizedSearchCV(RandomForestClassifier(), param_dist, n_iter=5, cv=5, random_state=42)\n",
    "random_search.fit(X_train, y_train)\n",
    "\n",
    "print(\"Best Parameters:\", random_search.best_params_)\n",
    "print(\"CV Score:\", random_search.best_score_)"
   ]
  },
  {
   "cell_type": "markdown",
   "id": "fa8c804e",
   "metadata": {},
   "source": [
    "\n",
    "### Decision Tree & Random Forest\n",
    "Train using best parameters and evaluate.\n"
   ]
  },
  {
   "cell_type": "code",
   "execution_count": 6,
   "id": "4995ac17",
   "metadata": {},
   "outputs": [
    {
     "name": "stdout",
     "output_type": "stream",
     "text": [
      "Decision Tree Accuracy: 0.7988826815642458\n",
      "Random Forest Accuracy: 0.8100558659217877\n"
     ]
    }
   ],
   "source": [
    "dt = DecisionTreeClassifier(**grid.best_params_)\n",
    "dt.fit(X_train, y_train)\n",
    "rf = RandomForestClassifier(**random_search.best_params_)\n",
    "rf.fit(X_train, y_train)\n",
    "\n",
    "dt_pred = dt.predict(X_test)\n",
    "rf_pred = rf.predict(X_test)\n",
    "\n",
    "print(\"Decision Tree Accuracy:\", accuracy_score(y_test, dt_pred))\n",
    "print(\"Random Forest Accuracy:\", accuracy_score(y_test, rf_pred))"
   ]
  },
  {
   "cell_type": "markdown",
   "id": "4ff46752",
   "metadata": {},
   "source": [
    "\n",
    "### Boosting: Gradient Boosting, AdaBoost\n"
   ]
  },
  {
   "cell_type": "code",
   "execution_count": 7,
   "id": "f95f4912",
   "metadata": {},
   "outputs": [
    {
     "name": "stdout",
     "output_type": "stream",
     "text": [
      "Gradient Boosting Accuracy: 0.8212290502793296\n",
      "AdaBoost Accuracy: 0.8100558659217877\n"
     ]
    }
   ],
   "source": [
    "gb = GradientBoostingClassifier(n_estimators=300)\n",
    "ab = AdaBoostClassifier(n_estimators=300)\n",
    "\n",
    "gb.fit(X_train, y_train)\n",
    "ab.fit(X_train, y_train)\n",
    "\n",
    "gb_pred = gb.predict(X_test)\n",
    "ab_pred = ab.predict(X_test)\n",
    "\n",
    "print(\"Gradient Boosting Accuracy:\", accuracy_score(y_test, gb_pred))\n",
    "print(\"AdaBoost Accuracy:\", accuracy_score(y_test, ab_pred))"
   ]
  },
  {
   "cell_type": "markdown",
   "id": "771e2fa0",
   "metadata": {},
   "source": [
    "### Boosting: XGBoost, Catboost, LightGBM"
   ]
  },
  {
   "cell_type": "code",
   "execution_count": 19,
   "id": "2c143a74",
   "metadata": {},
   "outputs": [
    {
     "name": "stdout",
     "output_type": "stream",
     "text": [
      "XGBoost Accuracy: 0.8212290502793296\n",
      "CatBoost Accuracy: 0.8268156424581006\n",
      "LightGBM Accuracy: 0.8379888268156425\n"
     ]
    }
   ],
   "source": [
    "xgb = XGBClassifier(max_depth=2)\n",
    "cat = CatBoostClassifier(verbose=0)\n",
    "lgbm = LGBMClassifier(verbose=-1)\n",
    "\n",
    "xgb.fit(X_train, y_train)\n",
    "xgb_pred = xgb.predict(X_test)\n",
    "print(\"XGBoost Accuracy:\", accuracy_score(y_test, xgb_pred))\n",
    "\n",
    "cat.fit(X_train, y_train)\n",
    "cat_pred = cat.predict(X_test)\n",
    "print(\"CatBoost Accuracy:\", accuracy_score(y_test, cat_pred))\n",
    "\n",
    "lgbm.fit(X_train, y_train)\n",
    "lgbm_pred = lgbm.predict(X_test)\n",
    "print(\"LightGBM Accuracy:\", accuracy_score(y_test,lgbm_pred))"
   ]
  },
  {
   "cell_type": "markdown",
   "id": "3fc62610",
   "metadata": {},
   "source": [
    "\n",
    "### K-Nearest Neighbors (KNN)\n"
   ]
  },
  {
   "cell_type": "code",
   "execution_count": 9,
   "id": "840b1698",
   "metadata": {},
   "outputs": [
    {
     "name": "stdout",
     "output_type": "stream",
     "text": [
      "KNN Accuracy: 0.8268156424581006\n"
     ]
    }
   ],
   "source": [
    "scaler = StandardScaler()\n",
    "X_train_scaled = scaler.fit_transform(X_train)\n",
    "X_test_scaled = scaler.transform(X_test)\n",
    "\n",
    "knn = KNeighborsClassifier(n_neighbors=2)\n",
    "knn.fit(X_train_scaled, y_train)\n",
    "knn_pred = knn.predict(X_test_scaled)\n",
    "\n",
    "print(\"KNN Accuracy:\", accuracy_score(y_test, knn_pred))"
   ]
  },
  {
   "cell_type": "code",
   "execution_count": 10,
   "id": "8f6c7da7",
   "metadata": {},
   "outputs": [
    {
     "name": "stdout",
     "output_type": "stream",
     "text": [
      "Decision Tree: 0.79888268\n",
      "Random Forest: 0.81005587\n",
      "Gradient Boosting: 0.82122905\n",
      "AdaBoost: 0.81005587\n",
      "XGBoost: 0.82122905\n",
      "CatBoost: 0.82681564\n",
      "LightGBM: 0.83798883\n"
     ]
    }
   ],
   "source": [
    "print(f\"Decision Tree: {accuracy_score(y_test, dt_pred):.8f}\")\n",
    "print(f\"Random Forest: {accuracy_score(y_test, rf_pred):.8f}\")\n",
    "print(f\"Gradient Boosting: {accuracy_score(y_test, gb_pred):.8f}\")\n",
    "print(f\"AdaBoost: {accuracy_score(y_test, ab_pred):.8f}\")\n",
    "print(f\"XGBoost: {accuracy_score(y_test, xgb_pred):.8f}\")\n",
    "print(f\"CatBoost: {accuracy_score(y_test, cat_pred):.8f}\")\n",
    "print(f\"LightGBM: {accuracy_score(y_test, lgbm_pred):.8f}\")"
   ]
  },
  {
   "cell_type": "markdown",
   "id": "2c4045de",
   "metadata": {},
   "source": [
    "## Conclusion\n",
    "- Applied cross-validation and hyperparameter tuning.\n",
    "- Implemented Decision Trees, Random Forests, Boosting, and KNN.\n",
    "- Compared models' performance on the Titanic dataset.\n",
    "\n",
    "This concludes the Week 4 assignment."
   ]
  }
 ],
 "metadata": {
  "kernelspec": {
   "display_name": "Python 3",
   "language": "python",
   "name": "python3"
  },
  "language_info": {
   "codemirror_mode": {
    "name": "ipython",
    "version": 3
   },
   "file_extension": ".py",
   "mimetype": "text/x-python",
   "name": "python",
   "nbconvert_exporter": "python",
   "pygments_lexer": "ipython3",
   "version": "3.13.4"
  }
 },
 "nbformat": 4,
 "nbformat_minor": 5
}
